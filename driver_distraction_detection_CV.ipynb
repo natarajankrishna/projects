{
  "nbformat": 4,
  "nbformat_minor": 0,
  "metadata": {
    "colab": {
      "provenance": [],
      "authorship_tag": "ABX9TyOuAKbStFxEj7clma9+40Aq",
      "include_colab_link": true
    },
    "kernelspec": {
      "name": "python3",
      "display_name": "Python 3"
    },
    "language_info": {
      "name": "python"
    }
  },
  "cells": [
    {
      "cell_type": "markdown",
      "metadata": {
        "id": "view-in-github",
        "colab_type": "text"
      },
      "source": [
        "<a href=\"https://colab.research.google.com/github/natarajankrishna/projects/blob/computer-vision/driver_distraction_detection_CV.ipynb\" target=\"_parent\"><img src=\"https://colab.research.google.com/assets/colab-badge.svg\" alt=\"Open In Colab\"/></a>"
      ]
    },
    {
      "cell_type": "code",
      "source": [
        "!pip install parameters\n",
        "!pip install pygame"
      ],
      "metadata": {
        "colab": {
          "base_uri": "https://localhost:8080/"
        },
        "id": "1VeDopTJWSMn",
        "outputId": "aee6bbcd-6c7a-4882-a1ab-c0738c3a0c79"
      },
      "execution_count": null,
      "outputs": [
        {
          "output_type": "stream",
          "name": "stdout",
          "text": [
            "Looking in indexes: https://pypi.org/simple, https://us-python.pkg.dev/colab-wheels/public/simple/\n",
            "Requirement already satisfied: parameters in /usr/local/lib/python3.8/dist-packages (0.2.1)\n",
            "Looking in indexes: https://pypi.org/simple, https://us-python.pkg.dev/colab-wheels/public/simple/\n",
            "Collecting pygame\n",
            "  Downloading pygame-2.2.0-cp38-cp38-manylinux_2_17_x86_64.manylinux2014_x86_64.whl (13.7 MB)\n",
            "\u001b[2K     \u001b[90m━━━━━━━━━━━━━━━━━━━━━━━━━━━━━━━━━━━━━━━━\u001b[0m \u001b[32m13.7/13.7 MB\u001b[0m \u001b[31m51.8 MB/s\u001b[0m eta \u001b[36m0:00:00\u001b[0m\n",
            "\u001b[?25hInstalling collected packages: pygame\n",
            "Successfully installed pygame-2.2.0\n"
          ]
        }
      ]
    },
    {
      "cell_type": "code",
      "execution_count": null,
      "metadata": {
        "colab": {
          "base_uri": "https://localhost:8080/"
        },
        "id": "F52veYxOV7VE",
        "outputId": "1aaee253-2bca-49e1-9d1b-ffe17c02966e"
      },
      "outputs": [
        {
          "output_type": "stream",
          "name": "stdout",
          "text": [
            "pygame 2.2.0 (SDL 2.0.22, Python 3.8.10)\n",
            "Hello from the pygame community. https://www.pygame.org/contribute.html\n"
          ]
        }
      ],
      "source": [
        "from parameters import *\n",
        "from scipy.spatial import distance\n",
        "from imutils import face_utils as face\n",
        "from pygame import mixer\n",
        "import imutils\n",
        "import time\n",
        "import dlib\n",
        "import cv2"
      ]
    },
    {
      "cell_type": "code",
      "source": [
        "def get_max_area_rect(rects):\n",
        "    if len(rects)==0: return\n",
        "    areas=[]\n",
        "    for rect in rects:\n",
        "        areas.append(rect.area())\n",
        "    return rects[areas.index(max(areas))]\n",
        "\n",
        "def get_eye_aspect_ratio(eye):\n",
        "    vertical_1 = distance.euclidean(eye[1], eye[5])\n",
        "    vertical_2 = distance.euclidean(eye[2], eye[4])\n",
        "    horizontal = distance.euclidean(eye[0], eye[3])\n",
        "    return (vertical_1+vertical_2)/(horizontal*2) #aspect ratio of eye\n",
        "\n",
        "def get_mouth_aspect_ratio(mouth):\n",
        "    horizontal=distance.euclidean(mouth[0],mouth[4])\n",
        "    vertical=0\n",
        "    for coord in range(1,4):\n",
        "        vertical+=distance.euclidean(mouth[coord],mouth[8-coord])\n",
        "    return vertical/(horizontal*3) #mouth aspect ratio\n",
        "\n",
        "\n",
        "# Facial processing\n",
        "\n",
        "def facial_processing():\n",
        "    mixer.init()\n",
        "    distracton_initlized = False\n",
        "    eye_initialized      = False\n",
        "    mouth_initialized    = False\n",
        "\n",
        "    detector    = dlib.get_frontal_face_detector()\n",
        "    predictor   = dlib.shape_predictor(shape_predictor_path)\n",
        "\n",
        "    ls,le = face.FACIAL_LANDMARKS_IDXS[\"left_eye\"]\n",
        "    rs,re = face.FACIAL_LANDMARKS_IDXS[\"right_eye\"]\n",
        "\n",
        "    cap=cv2.VideoCapture(0)\n",
        "\n",
        "    fps_couter=0\n",
        "    fps_to_display='initializing...'\n",
        "    fps_timer=time.time()\n",
        "    while True:\n",
        "        _ , frame=cap.read()\n",
        "        fps_couter+=1\n",
        "        frame = cv2.flip(frame, 1)\n",
        "        if time.time()-fps_timer>=1.0:\n",
        "            fps_to_display=fps_couter\n",
        "            fps_timer=time.time()\n",
        "            fps_couter=0\n",
        "        cv2.putText(frame, \"FPS :\"+str(fps_to_display), (frame.shape[1]-100, frame.shape[0]-10),\\\n",
        "                    cv2.FONT_HERSHEY_SIMPLEX, 0.7, (0, 0, 255), 2)\n",
        "\n",
        "\n",
        "        #frame = imutils.resize(frame, width=900)\n",
        "        gray = cv2.cvtColor(frame, cv2.COLOR_BGR2GRAY)\n",
        "\n",
        "        rects = detector(gray, 0)\n",
        "        rect=get_max_area_rect(rects)\n",
        "\n",
        "        if rect!=None:\n",
        "\n",
        "            distracton_initlized=False\n",
        "\n",
        "            shape = predictor(gray, rect)\n",
        "            shape = face.shape_to_np(shape)\n",
        "\n",
        "            leftEye = shape[ls:le]\n",
        "            rightEye = shape[rs:re]\n",
        "            leftEAR = get_eye_aspect_ratio(leftEye)\n",
        "            rightEAR = get_eye_aspect_ratio(rightEye)\n",
        "\n",
        "            inner_lips=shape[60:68]\n",
        "            mar=get_mouth_aspect_ratio(inner_lips)\n",
        "\n",
        "            eye_aspect_ratio = (leftEAR + rightEAR) / 2.0\n",
        "\n",
        "            leftEyeHull = cv2.convexHull(leftEye)\n",
        "            rightEyeHull = cv2.convexHull(rightEye)\n",
        "            cv2.drawContours(frame, [leftEyeHull], -1, (255, 255, 255), 1)\n",
        "            cv2.drawContours(frame, [rightEyeHull], -1, (255, 255, 255), 1)\n",
        "            lipHull = cv2.convexHull(inner_lips)\n",
        "            cv2.drawContours(frame, [lipHull], -1, (255, 255, 255), 1)\n",
        "\n",
        "            cv2.putText(frame, \"EAR: {:.2f} MAR{:.2f}\".format(eye_aspect_ratio,mar), (10, frame.shape[0]-10),\\\n",
        "                    cv2.FONT_HERSHEY_SIMPLEX, 0.7, (0, 0, 255), 2)\n",
        "\n",
        "            if eye_aspect_ratio < EYE_DROWSINESS_THRESHOLD:\n",
        "\n",
        "                if not eye_initialized:\n",
        "                    eye_start_time= time.time()\n",
        "                    eye_initialized=True\n",
        "\n",
        "                if time.time()-eye_start_time >= EYE_DROWSINESS_INTERVAL:\n",
        "                    alarm_type=0\n",
        "                    cv2.putText(frame, \"YOU ARE SLEEPY...\\nPLEASE TAKE A BREAK!\", (10, 20),\n",
        "                                cv2.FONT_HERSHEY_SIMPLEX, 0.5, (255, 255, 255), 2)\n",
        "\n",
        "                    if  not distracton_initlized and not mouth_initialized and not mixer.music.get_busy():\n",
        "                        mixer.music.load(alarm_paths[alarm_type])\n",
        "                        mixer.music.play()\n",
        "            else:\n",
        "                eye_initialized=False\n",
        "                if not distracton_initlized and not mouth_initialized and mixer.music.get_busy():\n",
        "                    mixer.music.stop()\n",
        "\n",
        "\n",
        "            if mar > MOUTH_DROWSINESS_THRESHOLD:\n",
        "\n",
        "                if not mouth_initialized:\n",
        "                    mouth_start_time= time.time()\n",
        "                    mouth_initialized=True\n",
        "\n",
        "                if time.time()-mouth_start_time >= MOUTH_DROWSINESS_INTERVAL:\n",
        "                    alarm_type=0\n",
        "                    cv2.putText(frame, \"YOU ARE YAWNING...\\nDO YOU NEED A BREAK?\", (10, 40),\n",
        "                                cv2.FONT_HERSHEY_SIMPLEX, 0.5, (255, 255, 255), 2)\n",
        "\n",
        "                    if not mixer.music.get_busy():\n",
        "                        mixer.music.load(alarm_paths[alarm_type])\n",
        "                        mixer.music.play()\n",
        "            else:\n",
        "                mouth_initialized=False\n",
        "                if not distracton_initlized and not eye_initialized and mixer.music.get_busy():\n",
        "                    mixer.music.stop()\n",
        "\n",
        "\n",
        "        else:\n",
        "\n",
        "            alarm_type=1\n",
        "            if not distracton_initlized:\n",
        "                distracton_start_time=time.time()\n",
        "                distracton_initlized=True\n",
        "\n",
        "            if time.time()- distracton_start_time> DISTRACTION_INTERVAL:\n",
        "\n",
        "                cv2.putText(frame, \"EYES ON ROAD\", (10, 20),\n",
        "                            cv2.FONT_HERSHEY_SIMPLEX, 0.5, (255, 255, 255), 2)\n",
        "\n",
        "                if not eye_initialized and not mouth_initialized and not  mixer.music.get_busy():\n",
        "                    mixer.music.load(alarm_paths[alarm_type])\n",
        "                    mixer.music.play()\n",
        "\n",
        "        cv2.imshow(\"Frame\", frame)\n",
        "        key = cv2.waitKey(5)&0xFF\n",
        "        if key == ord(\"q\"):\n",
        "            break\n",
        "\n",
        "    cv2.destroyAllWindows()\n",
        "    cap.release()\n",
        "\n",
        "\n",
        "if __name__=='__main__':\n",
        "\tfacial_processing()"
      ],
      "metadata": {
        "id": "B-6eLMOJXlID"
      },
      "execution_count": null,
      "outputs": []
    }
  ]
}