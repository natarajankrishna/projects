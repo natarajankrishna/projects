{
  "nbformat": 4,
  "nbformat_minor": 0,
  "metadata": {
    "colab": {
      "provenance": [],
      "authorship_tag": "ABX9TyNiFiUeEG+qZ/z/x9P1v1En",
      "include_colab_link": true
    },
    "kernelspec": {
      "name": "python3",
      "display_name": "Python 3"
    },
    "language_info": {
      "name": "python"
    }
  },
  "cells": [
    {
      "cell_type": "markdown",
      "metadata": {
        "id": "view-in-github",
        "colab_type": "text"
      },
      "source": [
        "<a href=\"https://colab.research.google.com/github/natarajankrishna/projects/blob/computer-vision/object_detection_CV.ipynb\" target=\"_parent\"><img src=\"https://colab.research.google.com/assets/colab-badge.svg\" alt=\"Open In Colab\"/></a>"
      ]
    },
    {
      "cell_type": "code",
      "execution_count": null,
      "metadata": {
        "id": "KWqDN5z4G2s9"
      },
      "outputs": [],
      "source": [
        "import numpy as np\n",
        "import cv2\n",
        "capture = cv2.VideoCapture(0)\n"
      ]
    },
    {
      "cell_type": "code",
      "source": [
        "color_range = [[0,0,0],[179,50,100]]\n",
        "points = []\n",
        "count = 0"
      ],
      "metadata": {
        "id": "9bw-DWiWHYuw"
      },
      "execution_count": null,
      "outputs": []
    },
    {
      "cell_type": "code",
      "source": [
        "while True:\n",
        "\tresponse, frame = capture.read()\n",
        "\tframe = cv2.flip(frame, 1)\n",
        "\t\n",
        "\t# converting to hsv\n",
        "\thsv = cv2.cvtColor(frame, cv2.COLOR_BGR2HSV)\n",
        "\n",
        "\t# threshold values between range\n",
        "\tmask = cv2.inRange(hsv, np.array(color_range[0]), np.array(color_range[1]))\n",
        "\n",
        "\t# Finding contours\n",
        "\t_, contours, _ = cv2.findContours(mask.copy(), cv2.RETR_EXTERNAL, cv2.CHAIN_APPROX_SIMPLE)\n",
        "\n",
        "\t# Computing centroids\n",
        "\tcentroids = int(height/2), int(width/2)\n",
        "\tradius = 0\n",
        "\n",
        "\tif len(contours) > 0:\n",
        "\t\t# Find largest contour\n",
        "\t\tbiggest_contour = max(contours, key=cv2.contourArea)\n",
        "\t\t(x,y), radius = cv2.minEnclosingCircle(biggest_contour)\n",
        "\t\tM = cv2.moments(biggest_contour)\n",
        "\t\ttry:\n",
        "\t\t\ta = int(M['m10']/M['m00'])\n",
        "\t\t\tb = int(M['m01']/M['m00'])\n",
        "\t\t\tcentroids = (a, b) \n",
        "\t\texcept:\n",
        "\t\t\ta = int(height/2)\n",
        "\t\t\tb = int(width/2)\n",
        "\t\t\tcentroids = a,b\n",
        "\n",
        "\t\t# Threshold contours\t\n",
        "\t\tif radius > 25:\n",
        "\t\t\tprint (radius)\n",
        "\t\t\tcv2.circle(frame, (int(x), int(y)), int(radius), (0,0,255), 2)\n",
        "\t\t\tcv2.circle(frame, centroids, 5, (0,255,0), -1)\n",
        "\n",
        "\tpoints.append(centroids)\n",
        "\t\n",
        "\t# track points\n",
        "\tif radius > 25:\n",
        "\t\tprint (radius)\n",
        "\t\tfor i in range(1, len(points)):\n",
        "\t\t\ttry:\n",
        "\t\t\t\tcv2.line(frame, points[i-1], points[i], (0,255,0), 2)\n",
        "\t\t\texcept:\n",
        "\t\t\t\tpass\n",
        "\n",
        "\t\tcount += 0\t\t\t"
      ],
      "metadata": {
        "id": "Z6n69FY4RcgU"
      },
      "execution_count": null,
      "outputs": []
    }
  ]
}